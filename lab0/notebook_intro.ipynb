{
 "cells": [
  {
   "cell_type": "markdown",
   "id": "4e005b29-8a8c-4fe6-9b7c-783258ef9d2a",
   "metadata": {
    "tags": [],
    "pycharm": {
     "name": "#%% md\n"
    }
   },
   "source": [
    "# Instalacja\n",
    "## JupyterLab (nowsza wersja Jupytera, zawiera również notebook)\n",
    "### pip\n",
    "`pip install jupyterlab`\n",
    "### conda\n",
    "`conda install jupyterlab -c conda-forge`\n",
    "## Jupyter Notebook (starsza wersja, zawarta w JupyterLab)\n",
    "### pip\n",
    "`pip install notebook`\n",
    "### conda\n",
    "`conda install notebook -c conda-forge`"
   ]
  },
  {
   "cell_type": "markdown",
   "id": "533574f7-4daf-4f12-805c-9518f23f482e",
   "metadata": {
    "tags": [],
    "pycharm": {
     "name": "#%% md\n"
    }
   },
   "source": [
    "# Uruchamianie\n",
    "## Lab\n",
    "`jupyter lab` lub `jupyter-lab`\n",
    "## Notebook\n",
    "`jupyter notebook` lub `jupyter-notebook`\n",
    "\n",
    "\n",
    "\n",
    "Zarówno `lab`, jak i `notebook` uruchamiają lokalny serwer jupytera, którego interfejs można wyświetlić w przeglądarce.\n",
    "Root serwera znajduje się w katalogu, w którym został uruchomiony."
   ]
  },
  {
   "cell_type": "markdown",
   "id": "a06fb4b9-93d6-4fd1-9cc5-a3d35f5b2e77",
   "metadata": {
    "tags": [],
    "pycharm": {
     "name": "#%% md\n"
    }
   },
   "source": [
    "## Jupyter + IDE\n",
    "### [VS Code](https://code.visualstudio.com/docs/datascience/jupyter-notebooks)\n",
    "### [PyCharm](https://www.jetbrains.com/help/pycharm/jupyter-notebook-support.html)"
   ]
  },
  {
   "cell_type": "markdown",
   "id": "c48f0be1-1476-4f1e-b642-69a59b85da3f",
   "metadata": {
    "pycharm": {
     "name": "#%% md\n"
    }
   },
   "source": [
    "# Komórki\n",
    "\n",
    "Notebooki działają z wykorzystaniem tzw. komórek (cells)"
   ]
  },
  {
   "cell_type": "markdown",
   "id": "85a6b26f-ad5f-46f2-8099-8591293411a5",
   "metadata": {
    "tags": [],
    "pycharm": {
     "name": "#%% md\n"
    }
   },
   "source": [
    "## Rodzaje komórek\n",
    "* Code cell - komórka z kodem, wykonywana przez kernel (środowisko notebooka). Wyjście z danej komórki jest wyświetlane pod nią\n",
    "* Markdown cell - komórka z tekstem formatowanym zgodnie z formatem [Markdown](https://www.markdownguide.org/), pozwalającym na proste tworzenie tekstów, wstawianie linków i obrazków itd.\n",
    "* Raw cell - komórka z \"surową\" zawartością, może być wykorzystywana przy konwersji notebooka na inny format"
   ]
  },
  {
   "cell_type": "markdown",
   "id": "fb9d1fe7-366e-4e6f-8ff2-061e3f72e91d",
   "metadata": {
    "pycharm": {
     "name": "#%% md\n"
    }
   },
   "source": [
    "## Stany komórek w czasie tworzenia notebooka\n",
    "* Command mode - zarządzanie komórką (usuwanie, zmiana rodzaju, dodawanie komórek nad/pod wybraną itd.)\n",
    "* Edit mode - edycja zawartości komórki"
   ]
  },
  {
   "cell_type": "markdown",
   "id": "578bc200-ab8b-48b9-a07e-af329664042e",
   "metadata": {
    "tags": [],
    "pycharm": {
     "name": "#%% md\n"
    }
   },
   "source": [
    "# Przydatne skróty klawiszowe\n",
    "* `Esc, Enter` - przęłączanie między command mode i edit mode\n",
    "* `Shift + Enter` - wykonanie wybranej komórki i wybranie następnej\n",
    "* `Ctrl + Enter` - wykonanie wybranych komórek\n",
    "* `Alt + Enter` - wykonanie wybranej komórki, dodanie nowej pod nią\n",
    "* `Ctrl + S` - zapisz i zrób checkpoint\n",
    "\n",
    "W command mode:\n",
    "* `Strzałka w górę/strzałka w dół` - zmiana wybranej komórki w górę/w dół\n",
    "* `A/B` - dodanie nowej komórki nad/pod wybraną\n",
    "* `M` - zmiana rodzaju wybranej komórki na Markdown\n",
    "* `Y` - zmiana rodzaju wybranej komórki na Code\n",
    "* `R`- zmiana rodzaju wybranej komórki na Raw\n",
    "* `X` - wycięcie wybranej komórki\n",
    "* `C` - skopiowanie wybranej komórki\n",
    "* `V` - wklejenie skopiowanej/wyciętej komórki (pod wybraną)\n",
    "* `Shift + V` - wklejenie skopiowanej/wyciętej komórki (nad wybraną)\n",
    "* `S` - zapisanie notebooka\n",
    "* `F` - znajdź/zastąp\n",
    "* `DD (podwójne wciśnięcie D)` - usunięcie wybranej komórki\n",
    "* `Z` - cofnięcie usunięcia komórki\n",
    "* `Shift + strzałka w górę/strzałka w dół` - wybór kilku komórek na raz w górę/w dół\n",
    "* `Shift + M` - połączenie wybranych komórek\n",
    "* `Space` - przewijanie notebooka w dół\n",
    "* `Shift + Space` - przewijanie notebooka w górę\n",
    "\n",
    "W edit mode:\n",
    "* `Ctrl + Shift + -` - podzielenie komórki w miejscu kursora"
   ]
  },
  {
   "cell_type": "markdown",
   "id": "61f2050a-7a5c-4bba-90fc-eeef301a7100",
   "metadata": {
    "pycharm": {
     "name": "#%% md\n"
    }
   },
   "source": [
    "# Wykonywanie komórek\n",
    "\n",
    "Komórki są wykonywane w ramach kernela, będącego środowiskiem wybranego przez nas języka programowania.\n",
    "Kod z komórki jest wykonywany przez kernel. Kod ten modyfikuje stan kernela, który zostaje **zachowany i dostępny dla innych komórek**.\n",
    "Wynik działania komórki jest do niej zwracany do wyświetlenia."
   ]
  },
  {
   "cell_type": "markdown",
   "id": "9bc520e0-8bb6-4ea4-b8a2-003d8ae15268",
   "metadata": {
    "pycharm": {
     "name": "#%% md\n"
    }
   },
   "source": [
    "# Przykładowy kod"
   ]
  },
  {
   "cell_type": "code",
   "execution_count": null,
   "id": "ba696c3e-87e6-41be-b03f-595aa0a9c98a",
   "metadata": {
    "pycharm": {
     "name": "#%%\n"
    }
   },
   "outputs": [],
   "source": [
    "# importy wykonane w ramach tej komórki będą dostępne dla kolejnych komórek\n",
    "import numpy as np\n",
    "import math"
   ]
  },
  {
   "cell_type": "code",
   "execution_count": null,
   "id": "419d2260-e56d-4300-ab48-c3f5a27a320b",
   "metadata": {
    "pycharm": {
     "name": "#%%\n"
    }
   },
   "outputs": [],
   "source": [
    "def sqrt_math(num: float) -> float:\n",
    "    print(\"Math sqrt\")\n",
    "    return math.sqrt(num)"
   ]
  },
  {
   "cell_type": "code",
   "execution_count": null,
   "id": "2927bf62-0616-4335-a945-877fb7afbbfa",
   "metadata": {
    "pycharm": {
     "name": "#%%\n"
    }
   },
   "outputs": [],
   "source": [
    "# Funkcja zdefiniowana w poprzedniej komórce jest dostępna w tej komórce\n",
    "def sqrt(num_arr: int | float | np.ndarray) -> np.ndarray:\n",
    "    print(\"Numpy sqrt\")\n",
    "    if isinstance(num_arr, (int, float)):\n",
    "        return sqrt_math(num_arr)\n",
    "    return np.sqrt(num_arr)"
   ]
  },
  {
   "cell_type": "code",
   "execution_count": null,
   "id": "290ab15e-e4de-4901-87b6-beabeb833149",
   "metadata": {
    "pycharm": {
     "name": "#%%\n"
    }
   },
   "outputs": [],
   "source": [
    "x = 16\n",
    "x_np = np.array([1, 4, 9, 16, 25])"
   ]
  },
  {
   "cell_type": "code",
   "execution_count": null,
   "id": "918e947d-9ea6-49fc-856b-01e066472783",
   "metadata": {
    "pycharm": {
     "name": "#%%\n"
    }
   },
   "outputs": [],
   "source": [
    "sqrt(x)"
   ]
  },
  {
   "cell_type": "code",
   "execution_count": null,
   "id": "f1da7222-1216-43fb-a88a-121a59be650e",
   "metadata": {
    "pycharm": {
     "name": "#%%\n"
    }
   },
   "outputs": [],
   "source": [
    "sqrt(x_np)"
   ]
  },
  {
   "cell_type": "code",
   "execution_count": null,
   "id": "37b9fdc7",
   "metadata": {
    "pycharm": {
     "name": "#%%\n"
    }
   },
   "outputs": [],
   "source": [
    "x_np = np.array([i for i in range(100000000)])"
   ]
  },
  {
   "cell_type": "code",
   "execution_count": null,
   "id": "5b78c223",
   "metadata": {
    "pycharm": {
     "name": "#%%\n"
    }
   },
   "outputs": [],
   "source": [
    "sqrt(x_np)[-1]"
   ]
  },
  {
   "cell_type": "markdown",
   "id": "edced568-6ac5-42e9-b977-9d3a6171c399",
   "metadata": {
    "pycharm": {
     "name": "#%% md\n"
    }
   },
   "source": [
    "# Save / checkpoint\n",
    "\n",
    "Pliki notebookowe są reprezentowane przez pliki z rozszerzeniem `.ipynb`. W katalogu z notebookiem znajduje się także ukryty katalog `.ipynb_checkpoints`. Co 120 sekund, Jupyter dokonuje autozapisu notebooka do checkpointa bez modyfikacji edytowanego notebooka. Możliwe jest przywrócenie stanu z checkpointa w razie utracenia stworzonych danych. Przy użyciu skrótu `Ctrl + S` zmiany są zapisywane zarówno w modyfikowanym pliku, jak i checkpoincie mu odpowiadającym."
   ]
  },
  {
   "cell_type": "markdown",
   "id": "99999dee-bb3a-463c-a1ba-0594feede4ac",
   "metadata": {
    "pycharm": {
     "name": "#%% md\n"
    }
   },
   "source": [
    "# Google Colab\n",
    "\n",
    "Na naszych zajęciach, oprócz lokalnych notebooków, możemy również wykorzystać [Google Colab](https://colab.research.google.com/). Jest to środowisko do tworzenia i uruchamiania notebooków Pythonowych na udostępnianych przez Google zasobach, pozwalające wykorzystać GPU/TPU do przyspieszenia obliczeń (co będzie szczególnie przydatne przy mini-projektach). Ważne jest, że **maksymalna długość pojedynczej sesji wynosi 12 godzin** oraz **każda sesja może zostać przerwana po kilku minutach braku aktywności**. W związku z tym dobrą radą jest tworzenie kodów w taki sposób, żeby odpowiednio to obejść - np. poprzez tworzenie checkpointów swoich modeli co jakiś czas, żeby móc je wczytać i kontynuować dalszy trening. "
   ]
  },
  {
   "cell_type": "markdown",
   "id": "50f4fa50-2ab5-4cd8-8283-c3d6c9fd7fc6",
   "metadata": {
    "pycharm": {
     "name": "#%% md\n"
    }
   },
   "source": [
    "# Na następne zajęcia\n",
    "\n",
    "Na przyszły tydzień proszę przygotować sobie środowiska wirtualne (venv, conda, poetry, ...) z następującymi bibliotekami:\n",
    "* Notebooki - z JupyterLab, Jupyter Notebook, przez IDE, Google Colab (uwaga na połączenie internetowe na wydziale!), inne\n",
    "* [PyTorch](https://pytorch.org/get-started/locally/) (wszystkie pakiety z instrukcji z linku)\n",
    "* [NumPy](https://numpy.org/install/)\n",
    "* [Matplotlib](https://matplotlib.org/stable/users/getting_started/index.html#installation-quick-start)\n",
    "* [Pandas](https://pandas.pydata.org/)\n",
    "* Opcjonalnie, do wizualizacji grafów obliczeniowych - [pytorchviz](https://github.com/szagoruyko/pytorchviz)\n",
    "* Opcjonalnie, dla osób posiadających dedykowane GPU w laptopach - [CUDA Toolkit](https://developer.nvidia.com/cuda-zone) (przy wykorzystaniu condy, można zainstalować w ramach środowiska wirtualnego, w przypadku venv może być wymagana instalacja na poziomie systemu)"
   ]
  },
  {
   "cell_type": "markdown",
   "id": "c85f0359-461e-4461-8904-bb463598c95f",
   "metadata": {
    "pycharm": {
     "name": "#%% md\n"
    }
   },
   "source": [
    "# Dla chętnych\n",
    "## [Magic commands](https://ipython.readthedocs.io/en/stable/interactive/magics.html)\n",
    "## Matplotlib resize plots\n",
    "Może być przydatne do ładniejszego wyświetlania wykresów ((10, 12) podane jako przykład, do dobrania)\n",
    "\n",
    "`matplotlib.rcParams['figure.figsize'] = (10, 12) # ustawienie domyślnego rozmiaru wykresu`\n",
    "\n",
    "`plt.figure(figsize=(10,12)) # zmiana rozmiaru wykresu plt`"
   ]
  },
  {
   "cell_type": "markdown",
   "id": "89a87dcc-1daf-415b-8ab5-c62957889e27",
   "metadata": {
    "pycharm": {
     "name": "#%% md\n"
    }
   },
   "source": [
    "# Referencje\n",
    "Stworzone na podstawie:\n",
    "* [How to Use Jupyter Notebook: A Beginner’s Tutorial](https://www.dataquest.io/blog/jupyter-notebook-tutorial/)\n",
    "* [Optimizing Jupyter Notebook: Tips, Tricks, and nbextensions](https://towardsdatascience.com/optimizing-jupyter-notebook-tips-tricks-and-nbextensions-26d75d502663)"
   ]
  }
 ],
 "metadata": {
  "kernelspec": {
   "display_name": "Python 3 (ipykernel)",
   "language": "python",
   "name": "python3"
  },
  "language_info": {
   "codemirror_mode": {
    "name": "ipython",
    "version": 3
   },
   "file_extension": ".py",
   "mimetype": "text/x-python",
   "name": "python",
   "nbconvert_exporter": "python",
   "pygments_lexer": "ipython3",
   "version": "3.10.4"
  }
 },
 "nbformat": 4,
 "nbformat_minor": 5
}