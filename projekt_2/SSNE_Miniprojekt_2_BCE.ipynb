{
 "cells": [
  {
   "cell_type": "code",
   "execution_count": 1,
   "metadata": {
    "ExecuteTime": {
     "end_time": "2021-10-09T07:40:36.434199Z",
     "start_time": "2021-10-09T07:40:36.033612Z"
    },
    "id": "S-wOEa5PmtfA",
    "pycharm": {
     "name": "#%%\n"
    }
   },
   "outputs": [],
   "source": [
    "import torch\n",
    "import numpy as np\n",
    "# import time\n",
    "# import math\n",
    "import matplotlib.pyplot as plt\n",
    "import torch.nn as nn\n",
    "# import torch.nn.functional as F\n",
    "import pandas as pd\n",
    "import torch.utils.data as data\n",
    "from sklearn.metrics import roc_auc_score, RocCurveDisplay, roc_curve\n"
   ]
  },
  {
   "cell_type": "code",
   "execution_count": 2,
   "metadata": {
    "id": "4UaV4SpTK5D-",
    "tags": [],
    "pycharm": {
     "name": "#%%\n"
    }
   },
   "outputs": [],
   "source": [
    "if torch.cuda.is_available(): \n",
    "    torch.cuda.manual_seed(42)\n",
    "    torch.cuda.manual_seed_all(42)\n",
    "torch.backends.cudnn.determinstic = True\n",
    "torch.backends.cudnn.benchmark = False"
   ]
  },
  {
   "cell_type": "code",
   "execution_count": 3,
   "metadata": {
    "id": "U0bgPNvOeoCy",
    "pycharm": {
     "name": "#%%\n"
    }
   },
   "outputs": [],
   "source": [
    "def prepare_data(df, std=None, mean=None):\n",
    "  numerical_data = df[[\"YearBuilt\",\"Size(sqf)\",\"Floor\",\"N_Parkinglot(Ground)\",\"N_Parkinglot(Basement)\",\"N_manager\",\"N_elevators\",\"N_FacilitiesInApt\",\"N_FacilitiesNearBy(Total)\",\"N_SchoolNearBy(Total)\"]]\n",
    "  #numerical_data = df[[YearBuilt,Size(sqf),Floor,HallwayType,HeatingType,AptManageType,N_Parkinglot(Ground),N_Parkinglot(Basement),TimeToBusStop,TimeToSubway,N_manager,N_elevators,SubwayStation,N_FacilitiesInApt,N_FacilitiesNearBy(Total),N_SchoolNearBy(Total)]]\n",
    "\n",
    "  time_to_bus_stop = pd.Series.to_frame(df[\"TimeToBusStop\"].str.replace('-','~').str.split('~',1,expand=True)[1].str.slice(stop=-3)).rename(columns={1: 'TimeToBusStop'})\n",
    "  time_to_subway = pd.Series.to_frame(df[\"TimeToSubway\"].str.replace('-','~').str.split('~',1,expand=True)[1].str.slice(stop=-3)).rename(columns={1: 'TimeToSubway'})\n",
    "  time_to_subway.fillna(2*np.nanmax(time_to_subway.astype(\"float\").values),inplace=True)\n",
    "  subway = pd.Series.to_frame(df.TimeToSubway != \"no_bus_stop_nearby\").rename({\"TimeToSubway\":\"Subway\"})\n",
    "  numerical_data =  pd.concat([numerical_data,time_to_bus_stop], axis=1).astype(float)\n",
    "  if std is None or mean is None:\n",
    "    std=np.std(numerical_data)\n",
    "    mean=np.mean(numerical_data)\n",
    "  numerical_data -= mean\n",
    "  numerical_data /= std\n",
    "  boolean_data = pd.concat([df[\"HeatingType\"] == \"central_heating\",df[\"AptManageType\"] == \"self_management\"], axis=1)\n",
    "  categorical_data = pd.get_dummies(df[[\"SubwayStation\",\"TimeToSubway\"]])\n",
    "  df_data =  pd.concat([numerical_data,boolean_data,categorical_data], axis=1)\n",
    "  df_data = torch.from_numpy(df_data.astype(float).values)\n",
    "  if \"SalePrice\" in df:\n",
    "    temp = df[\"SalePrice\"]\n",
    "    q = []\n",
    "    for a in temp:\n",
    "        q.append(a)\n",
    "    for i in range(len(q)):\n",
    "        if q[i] <= 100000:\n",
    "            q[i] = 0\n",
    "        elif q[i] <= 350000:\n",
    "            q[i] = 1\n",
    "        else:\n",
    "            q[i] = 2\n",
    "    df[\"SalePrice\"] = q\n",
    "    print(df[\"SalePrice\"])\n",
    "    targets = torch.from_numpy(df[\"SalePrice\"].astype(int).to_numpy())\n",
    "    return data.TensorDataset(df_data,targets), std, mean\n",
    "  else:\n",
    "    return data.TensorDataset(df_data), std, mean"
   ]
  },
  {
   "cell_type": "code",
   "execution_count": 4,
   "metadata": {
    "ExecuteTime": {
     "end_time": "2021-10-09T06:59:23.179548Z",
     "start_time": "2021-10-09T06:59:21.774040Z"
    },
    "id": "7hOuhS9Amtg0",
    "scrolled": true,
    "tags": [],
    "pycharm": {
     "name": "#%%\n"
    }
   },
   "outputs": [
    {
     "name": "stdout",
     "output_type": "stream",
     "text": [
      "4084    2\n",
      "1202    1\n",
      "1406    0\n",
      "2078    1\n",
      "2051    1\n",
      "       ..\n",
      "3286    1\n",
      "1320    1\n",
      "1832    1\n",
      "708     1\n",
      "3575    1\n",
      "Name: SalePrice, Length: 3299, dtype: int64\n",
      "17      1\n",
      "18      2\n",
      "48      2\n",
      "67      1\n",
      "73      1\n",
      "       ..\n",
      "4100    1\n",
      "4103    1\n",
      "4107    0\n",
      "4110    1\n",
      "4115    1\n",
      "Name: SalePrice, Length: 825, dtype: int64\n"
     ]
    }
   ],
   "source": [
    "df = pd.read_csv('train_data.csv')\n",
    "df_train=df.sample(frac=0.8,random_state=200) #random state is a seed value\n",
    "df_test=df.drop(df_train.index)\n",
    "df_eval = pd.read_csv('test_data.csv')\n",
    "train_dataset, std, mean = prepare_data(df_train)\n",
    "test_dataset = prepare_data(df_test, std, mean)[0]\n",
    "eval_dataset = prepare_data(df_eval, std, mean)[0]\n",
    "train_data_loader = data.DataLoader(train_dataset, batch_size=512, shuffle=True, drop_last=True)\n",
    "test_data_loader = data.DataLoader(test_dataset, batch_size=len(test_dataset), shuffle=True, drop_last=False)\n",
    "eval_data_loader = data.DataLoader(eval_dataset, batch_size=len(eval_dataset), shuffle=False, drop_last=False)"
   ]
  },
  {
   "cell_type": "markdown",
   "metadata": {
    "id": "cQoWYn2yLUZe",
    "pycharm": {
     "name": "#%% md\n"
    }
   },
   "source": [
    "Przygotowanie sieci"
   ]
  },
  {
   "cell_type": "code",
   "execution_count": 5,
   "metadata": {
    "id": "DpS2_ZyxvTfJ",
    "pycharm": {
     "name": "#%%\n"
    }
   },
   "outputs": [],
   "source": [
    "class SimpleClassifier(nn.Module):\n",
    "\n",
    "    def __init__(self, num_inputs, num_hidden, num_hidden2, num_outputs):\n",
    "        # Initialize the modules we need to build the network\n",
    "        super().__init__()\n",
    "        self.linear1 = nn.Linear(num_inputs, num_hidden)\n",
    "        self.act_fn = nn.Tanh()\n",
    "        self.linear2 = nn.Linear(num_hidden, num_hidden)\n",
    "        self.act_fn = nn.Tanh()\n",
    "        self.linear3 = nn.Linear(num_hidden, num_outputs)\n",
    "\n",
    "    def forward(self, x):\n",
    "        # Perform the calculation of the model to determine the prediction\n",
    "        x = self.linear1(x)\n",
    "        x = self.act_fn(x)\n",
    "        x = self.linear2(x)\n",
    "        x = self.act_fn(x)\n",
    "        x = self.linear3(x)\n",
    "        return x"
   ]
  },
  {
   "cell_type": "markdown",
   "metadata": {
    "id": "NDoXn6ePLY_u",
    "pycharm": {
     "name": "#%% md\n"
    }
   },
   "source": [
    "Utworzenie sieci i przygotowanie do jej nauki"
   ]
  },
  {
   "cell_type": "code",
   "execution_count": 8,
   "metadata": {
    "id": "igs_890FvrMe",
    "scrolled": true,
    "tags": [],
    "pycharm": {
     "name": "#%%\n"
    }
   },
   "outputs": [],
   "source": [
    "model = SimpleClassifier(num_inputs=len(train_dataset[0][0]), num_hidden=50, num_hidden2=26, num_outputs=1)\n",
    "\n",
    "#optimizer = torch.optim.SGD(model.parameters(), lr = 0.00001, momentum=0.9)\n",
    "optimizer = torch.optim.Adam(model.parameters(), lr=0.01, weight_decay=0.00001)\n",
    "targets = torch.from_numpy((df_train.SalePrice).astype(int).values)\n",
    "loss_module = nn.L1Loss()\n",
    "device = torch.device(\"cuda\") if torch.cuda.is_available() else torch.device(\"cpu\")\n",
    "model.to(device)\n",
    "model.train() \n",
    "loss_progress = []"
   ]
  },
  {
   "cell_type": "code",
   "execution_count": 9,
   "metadata": {
    "colab": {
     "base_uri": "https://localhost:8080/",
     "height": 1000
    },
    "id": "r7SVMLnNyDtY",
    "outputId": "bafec107-039c-4640-c57b-4cbc7b5e27b9",
    "scrolled": true,
    "tags": [],
    "pycharm": {
     "name": "#%%\n"
    }
   },
   "outputs": [
    {
     "name": "stdout",
     "output_type": "stream",
     "text": [
      "Epoch: 0, loss: 0.435\n",
      "Epoch: 1, loss: 0.345\n",
      "Epoch: 2, loss: 0.304\n",
      "Epoch: 3, loss: 0.288\n",
      "Epoch: 4, loss: 0.258\n",
      "Epoch: 5, loss: 0.255\n",
      "Epoch: 6, loss: 0.212\n",
      "Epoch: 7, loss: 0.196\n",
      "Epoch: 8, loss: 0.202\n",
      "Epoch: 9, loss: 0.202\n",
      "Epoch: 10, loss: 0.217\n",
      "Epoch: 11, loss: 0.198\n",
      "Epoch: 12, loss: 0.192\n",
      "Epoch: 13, loss: 0.212\n",
      "Epoch: 14, loss: 0.197\n",
      "Epoch: 15, loss: 0.164\n",
      "Epoch: 16, loss: 0.189\n",
      "Epoch: 17, loss: 0.199\n",
      "Epoch: 18, loss: 0.193\n",
      "Epoch: 19, loss: 0.168\n",
      "Epoch: 20, loss: 0.172\n",
      "Epoch: 21, loss: 0.174\n",
      "Epoch: 22, loss: 0.18\n",
      "Epoch: 23, loss: 0.2\n",
      "Epoch: 24, loss: 0.179\n",
      "Epoch: 25, loss: 0.176\n",
      "Epoch: 26, loss: 0.19\n",
      "Epoch: 27, loss: 0.221\n",
      "Epoch: 28, loss: 0.175\n",
      "Epoch: 29, loss: 0.191\n",
      "Epoch: 30, loss: 0.171\n",
      "Epoch: 31, loss: 0.191\n",
      "Epoch: 32, loss: 0.201\n",
      "Epoch: 33, loss: 0.175\n",
      "Epoch: 34, loss: 0.165\n",
      "Epoch: 35, loss: 0.173\n",
      "Epoch: 36, loss: 0.179\n",
      "Epoch: 37, loss: 0.158\n",
      "Epoch: 38, loss: 0.171\n",
      "Epoch: 39, loss: 0.194\n",
      "Epoch: 40, loss: 0.178\n",
      "Epoch: 41, loss: 0.176\n",
      "Epoch: 42, loss: 0.184\n",
      "Epoch: 43, loss: 0.145\n",
      "Epoch: 44, loss: 0.183\n",
      "Epoch: 45, loss: 0.164\n",
      "Epoch: 46, loss: 0.14\n",
      "Epoch: 47, loss: 0.168\n",
      "Epoch: 48, loss: 0.159\n",
      "Epoch: 49, loss: 0.167\n",
      "Epoch: 50, loss: 0.172\n",
      "Epoch: 51, loss: 0.161\n",
      "Epoch: 52, loss: 0.158\n",
      "Epoch: 53, loss: 0.172\n",
      "Epoch: 54, loss: 0.17\n",
      "Epoch: 55, loss: 0.166\n",
      "Epoch: 56, loss: 0.168\n",
      "Epoch: 57, loss: 0.171\n",
      "Epoch: 58, loss: 0.208\n",
      "Epoch: 59, loss: 0.17\n",
      "Epoch: 60, loss: 0.169\n",
      "Epoch: 61, loss: 0.175\n",
      "Epoch: 62, loss: 0.16\n",
      "Epoch: 63, loss: 0.159\n",
      "Epoch: 64, loss: 0.148\n",
      "Epoch: 65, loss: 0.152\n",
      "Epoch: 66, loss: 0.181\n",
      "Epoch: 67, loss: 0.216\n",
      "Epoch: 68, loss: 0.168\n",
      "Epoch: 69, loss: 0.179\n",
      "Epoch: 70, loss: 0.17\n",
      "Epoch: 71, loss: 0.152\n",
      "Epoch: 72, loss: 0.148\n",
      "Epoch: 73, loss: 0.162\n",
      "Epoch: 74, loss: 0.155\n",
      "Epoch: 75, loss: 0.183\n",
      "Epoch: 76, loss: 0.168\n",
      "Epoch: 77, loss: 0.193\n",
      "Epoch: 78, loss: 0.167\n",
      "Epoch: 79, loss: 0.176\n",
      "Epoch: 80, loss: 0.172\n",
      "Epoch: 81, loss: 0.162\n",
      "Epoch: 82, loss: 0.159\n",
      "Epoch: 83, loss: 0.167\n",
      "Epoch: 84, loss: 0.17\n",
      "Epoch: 85, loss: 0.149\n",
      "Epoch: 86, loss: 0.174\n",
      "Epoch: 87, loss: 0.162\n",
      "Epoch: 88, loss: 0.153\n",
      "Epoch: 89, loss: 0.152\n",
      "Epoch: 90, loss: 0.156\n",
      "Epoch: 91, loss: 0.144\n",
      "Epoch: 92, loss: 0.176\n",
      "Epoch: 93, loss: 0.161\n",
      "Epoch: 94, loss: 0.184\n",
      "Epoch: 95, loss: 0.186\n",
      "Epoch: 96, loss: 0.151\n",
      "Epoch: 97, loss: 0.162\n",
      "Epoch: 98, loss: 0.154\n",
      "Epoch: 99, loss: 0.172\n",
      "Epoch: 100, loss: 0.17\n",
      "Epoch: 101, loss: 0.143\n",
      "Epoch: 102, loss: 0.154\n",
      "Epoch: 103, loss: 0.169\n",
      "Epoch: 104, loss: 0.156\n",
      "Epoch: 105, loss: 0.17\n",
      "Epoch: 106, loss: 0.192\n",
      "Epoch: 107, loss: 0.137\n",
      "Epoch: 108, loss: 0.151\n",
      "Epoch: 109, loss: 0.161\n",
      "Epoch: 110, loss: 0.166\n",
      "Epoch: 111, loss: 0.161\n",
      "Epoch: 112, loss: 0.189\n",
      "Epoch: 113, loss: 0.153\n",
      "Epoch: 114, loss: 0.171\n",
      "Epoch: 115, loss: 0.186\n",
      "Epoch: 116, loss: 0.166\n",
      "Epoch: 117, loss: 0.141\n",
      "Epoch: 118, loss: 0.139\n",
      "Epoch: 119, loss: 0.15\n",
      "Epoch: 120, loss: 0.176\n",
      "Epoch: 121, loss: 0.187\n",
      "Epoch: 122, loss: 0.182\n",
      "Epoch: 123, loss: 0.16\n",
      "Epoch: 124, loss: 0.166\n",
      "Epoch: 125, loss: 0.146\n",
      "Epoch: 126, loss: 0.159\n",
      "Epoch: 127, loss: 0.165\n",
      "Epoch: 128, loss: 0.175\n",
      "Epoch: 129, loss: 0.161\n",
      "Epoch: 130, loss: 0.161\n",
      "Epoch: 131, loss: 0.137\n",
      "Epoch: 132, loss: 0.161\n",
      "Epoch: 133, loss: 0.171\n",
      "Epoch: 134, loss: 0.147\n",
      "Epoch: 135, loss: 0.149\n",
      "Epoch: 136, loss: 0.15\n",
      "Epoch: 137, loss: 0.176\n",
      "Epoch: 138, loss: 0.149\n",
      "Epoch: 139, loss: 0.166\n",
      "Epoch: 140, loss: 0.17\n",
      "Epoch: 141, loss: 0.161\n",
      "Epoch: 142, loss: 0.13\n",
      "Epoch: 143, loss: 0.159\n",
      "Epoch: 144, loss: 0.156\n",
      "Epoch: 145, loss: 0.157\n",
      "Epoch: 146, loss: 0.174\n",
      "Epoch: 147, loss: 0.167\n",
      "Epoch: 148, loss: 0.156\n",
      "Epoch: 149, loss: 0.156\n",
      "Epoch: 150, loss: 0.152\n",
      "Epoch: 151, loss: 0.159\n",
      "Epoch: 152, loss: 0.16\n",
      "Epoch: 153, loss: 0.135\n",
      "Epoch: 154, loss: 0.176\n",
      "Epoch: 155, loss: 0.158\n",
      "Epoch: 156, loss: 0.149\n",
      "Epoch: 157, loss: 0.145\n",
      "Epoch: 158, loss: 0.162\n",
      "Epoch: 159, loss: 0.162\n",
      "Epoch: 160, loss: 0.131\n",
      "Epoch: 161, loss: 0.135\n",
      "Epoch: 162, loss: 0.161\n",
      "Epoch: 163, loss: 0.16\n",
      "Epoch: 164, loss: 0.156\n",
      "Epoch: 165, loss: 0.16\n",
      "Epoch: 166, loss: 0.145\n",
      "Epoch: 167, loss: 0.159\n",
      "Epoch: 168, loss: 0.147\n",
      "Epoch: 169, loss: 0.153\n",
      "Epoch: 170, loss: 0.151\n",
      "Epoch: 171, loss: 0.156\n",
      "Epoch: 172, loss: 0.168\n",
      "Epoch: 173, loss: 0.148\n",
      "Epoch: 174, loss: 0.151\n",
      "Epoch: 175, loss: 0.166\n",
      "Epoch: 176, loss: 0.156\n",
      "Epoch: 177, loss: 0.151\n",
      "Epoch: 178, loss: 0.19\n",
      "Epoch: 179, loss: 0.152\n",
      "Epoch: 180, loss: 0.138\n",
      "Epoch: 181, loss: 0.142\n",
      "Epoch: 182, loss: 0.159\n",
      "Epoch: 183, loss: 0.146\n",
      "Epoch: 184, loss: 0.164\n",
      "Epoch: 185, loss: 0.146\n",
      "Epoch: 186, loss: 0.163\n",
      "Epoch: 187, loss: 0.172\n",
      "Epoch: 188, loss: 0.144\n",
      "Epoch: 189, loss: 0.163\n",
      "Epoch: 190, loss: 0.18\n",
      "Epoch: 191, loss: 0.147\n",
      "Epoch: 192, loss: 0.165\n",
      "Epoch: 193, loss: 0.16\n",
      "Epoch: 194, loss: 0.146\n",
      "Epoch: 195, loss: 0.15\n",
      "Epoch: 196, loss: 0.169\n",
      "Epoch: 197, loss: 0.142\n",
      "Epoch: 198, loss: 0.153\n",
      "Epoch: 199, loss: 0.152\n",
      "Epoch: 200, loss: 0.142\n",
      "Epoch: 201, loss: 0.151\n",
      "Epoch: 202, loss: 0.152\n",
      "Epoch: 203, loss: 0.141\n",
      "Epoch: 204, loss: 0.14\n",
      "Epoch: 205, loss: 0.159\n",
      "Epoch: 206, loss: 0.143\n",
      "Epoch: 207, loss: 0.144\n",
      "Epoch: 208, loss: 0.178\n",
      "Epoch: 209, loss: 0.155\n",
      "Epoch: 210, loss: 0.142\n",
      "Epoch: 211, loss: 0.145\n",
      "Epoch: 212, loss: 0.148\n",
      "Epoch: 213, loss: 0.163\n",
      "Epoch: 214, loss: 0.18\n",
      "Epoch: 215, loss: 0.131\n",
      "Epoch: 216, loss: 0.151\n",
      "Epoch: 217, loss: 0.189\n",
      "Epoch: 218, loss: 0.151\n",
      "Epoch: 219, loss: 0.163\n",
      "Epoch: 220, loss: 0.145\n",
      "Epoch: 221, loss: 0.162\n",
      "Epoch: 222, loss: 0.166\n",
      "Epoch: 223, loss: 0.145\n",
      "Epoch: 224, loss: 0.134\n",
      "Epoch: 225, loss: 0.163\n",
      "Epoch: 226, loss: 0.163\n",
      "Epoch: 227, loss: 0.143\n",
      "Epoch: 228, loss: 0.123\n",
      "Epoch: 229, loss: 0.142\n",
      "Epoch: 230, loss: 0.154\n",
      "Epoch: 231, loss: 0.165\n",
      "Epoch: 232, loss: 0.167\n",
      "Epoch: 233, loss: 0.131\n",
      "Epoch: 234, loss: 0.137\n",
      "Epoch: 235, loss: 0.148\n",
      "Epoch: 236, loss: 0.134\n",
      "Epoch: 237, loss: 0.154\n",
      "Epoch: 238, loss: 0.147\n",
      "Epoch: 239, loss: 0.16\n",
      "Epoch: 240, loss: 0.14\n",
      "Epoch: 241, loss: 0.158\n",
      "Epoch: 242, loss: 0.168\n",
      "Epoch: 243, loss: 0.179\n",
      "Epoch: 244, loss: 0.163\n",
      "Epoch: 245, loss: 0.153\n",
      "Epoch: 246, loss: 0.17\n",
      "Epoch: 247, loss: 0.145\n",
      "Epoch: 248, loss: 0.151\n",
      "Epoch: 249, loss: 0.171\n",
      "Epoch: 250, loss: 0.148\n",
      "Epoch: 251, loss: 0.154\n",
      "Epoch: 252, loss: 0.161\n",
      "Epoch: 253, loss: 0.143\n",
      "Epoch: 254, loss: 0.144\n",
      "Epoch: 255, loss: 0.118\n",
      "Epoch: 256, loss: 0.142\n",
      "Epoch: 257, loss: 0.167\n",
      "Epoch: 258, loss: 0.175\n",
      "Epoch: 259, loss: 0.142\n",
      "Epoch: 260, loss: 0.14\n",
      "Epoch: 261, loss: 0.172\n",
      "Epoch: 262, loss: 0.142\n",
      "Epoch: 263, loss: 0.136\n",
      "Epoch: 264, loss: 0.142\n",
      "Epoch: 265, loss: 0.138\n",
      "Epoch: 266, loss: 0.145\n",
      "Epoch: 267, loss: 0.18\n",
      "Epoch: 268, loss: 0.147\n",
      "Epoch: 269, loss: 0.151\n",
      "Epoch: 270, loss: 0.146\n",
      "Epoch: 271, loss: 0.155\n",
      "Epoch: 272, loss: 0.144\n",
      "Epoch: 273, loss: 0.129\n",
      "Epoch: 274, loss: 0.124\n",
      "Epoch: 275, loss: 0.148\n",
      "Epoch: 276, loss: 0.129\n",
      "Epoch: 277, loss: 0.158\n",
      "Epoch: 278, loss: 0.145\n",
      "Epoch: 279, loss: 0.156\n",
      "Epoch: 280, loss: 0.138\n",
      "Epoch: 281, loss: 0.131\n",
      "Epoch: 282, loss: 0.133\n",
      "Epoch: 283, loss: 0.151\n",
      "Epoch: 284, loss: 0.113\n",
      "Epoch: 285, loss: 0.128\n",
      "Epoch: 286, loss: 0.151\n",
      "Epoch: 287, loss: 0.158\n",
      "Epoch: 288, loss: 0.153\n",
      "Epoch: 289, loss: 0.121\n",
      "Epoch: 290, loss: 0.167\n",
      "Epoch: 291, loss: 0.18\n",
      "Epoch: 292, loss: 0.166\n",
      "Epoch: 293, loss: 0.158\n",
      "Epoch: 294, loss: 0.16\n",
      "Epoch: 295, loss: 0.134\n",
      "Epoch: 296, loss: 0.13\n",
      "Epoch: 297, loss: 0.163\n",
      "Epoch: 298, loss: 0.174\n",
      "Epoch: 299, loss: 0.14\n",
      "Epoch: 300, loss: 0.145\n",
      "Epoch: 301, loss: 0.142\n",
      "Epoch: 302, loss: 0.157\n",
      "Epoch: 303, loss: 0.152\n",
      "Epoch: 304, loss: 0.159\n",
      "Epoch: 305, loss: 0.119\n",
      "Epoch: 306, loss: 0.117\n",
      "Epoch: 307, loss: 0.154\n",
      "Epoch: 308, loss: 0.144\n",
      "Epoch: 309, loss: 0.145\n",
      "Epoch: 310, loss: 0.132\n",
      "Epoch: 311, loss: 0.154\n",
      "Epoch: 312, loss: 0.145\n",
      "Epoch: 313, loss: 0.143\n",
      "Epoch: 314, loss: 0.119\n",
      "Epoch: 315, loss: 0.153\n",
      "Epoch: 316, loss: 0.164\n",
      "Epoch: 317, loss: 0.135\n",
      "Epoch: 318, loss: 0.154\n",
      "Epoch: 319, loss: 0.179\n",
      "Epoch: 320, loss: 0.142\n",
      "Epoch: 321, loss: 0.183\n",
      "Epoch: 322, loss: 0.139\n",
      "Epoch: 323, loss: 0.15\n",
      "Epoch: 324, loss: 0.136\n",
      "Epoch: 325, loss: 0.132\n",
      "Epoch: 326, loss: 0.137\n",
      "Epoch: 327, loss: 0.143\n",
      "Epoch: 328, loss: 0.136\n",
      "Epoch: 329, loss: 0.151\n",
      "Epoch: 330, loss: 0.142\n",
      "Epoch: 331, loss: 0.13\n",
      "Epoch: 332, loss: 0.142\n",
      "Epoch: 333, loss: 0.176\n",
      "Epoch: 334, loss: 0.16\n",
      "Epoch: 335, loss: 0.126\n",
      "Epoch: 336, loss: 0.122\n",
      "Epoch: 337, loss: 0.121\n",
      "Epoch: 338, loss: 0.149\n",
      "Epoch: 339, loss: 0.144\n",
      "Epoch: 340, loss: 0.154\n",
      "Epoch: 341, loss: 0.142\n",
      "Epoch: 342, loss: 0.158\n",
      "Epoch: 343, loss: 0.146\n",
      "Epoch: 344, loss: 0.169\n",
      "Epoch: 345, loss: 0.137\n",
      "Epoch: 346, loss: 0.172\n",
      "Epoch: 347, loss: 0.135\n",
      "Epoch: 348, loss: 0.146\n",
      "Epoch: 349, loss: 0.16\n",
      "Epoch: 350, loss: 0.143\n",
      "Epoch: 351, loss: 0.145\n",
      "Epoch: 352, loss: 0.143\n",
      "Epoch: 353, loss: 0.128\n",
      "Epoch: 354, loss: 0.134\n",
      "Epoch: 355, loss: 0.162\n",
      "Epoch: 356, loss: 0.135\n",
      "Epoch: 357, loss: 0.128\n",
      "Epoch: 358, loss: 0.15\n",
      "Epoch: 359, loss: 0.143\n",
      "Epoch: 360, loss: 0.151\n",
      "Epoch: 361, loss: 0.15\n",
      "Epoch: 362, loss: 0.16\n",
      "Epoch: 363, loss: 0.132\n",
      "Epoch: 364, loss: 0.144\n",
      "Epoch: 365, loss: 0.151\n",
      "Epoch: 366, loss: 0.163\n",
      "Epoch: 367, loss: 0.114\n",
      "Epoch: 368, loss: 0.135\n",
      "Epoch: 369, loss: 0.163\n",
      "Epoch: 370, loss: 0.126\n",
      "Epoch: 371, loss: 0.147\n",
      "Epoch: 372, loss: 0.144\n",
      "Epoch: 373, loss: 0.141\n",
      "Epoch: 374, loss: 0.149\n",
      "Epoch: 375, loss: 0.146\n",
      "Epoch: 376, loss: 0.139\n",
      "Epoch: 377, loss: 0.158\n",
      "Epoch: 378, loss: 0.146\n",
      "Epoch: 379, loss: 0.134\n",
      "Epoch: 380, loss: 0.176\n",
      "Epoch: 381, loss: 0.159\n",
      "Epoch: 382, loss: 0.141\n",
      "Epoch: 383, loss: 0.164\n",
      "Epoch: 384, loss: 0.138\n",
      "Epoch: 385, loss: 0.123\n",
      "Epoch: 386, loss: 0.147\n",
      "Epoch: 387, loss: 0.145\n",
      "Epoch: 388, loss: 0.143\n",
      "Epoch: 389, loss: 0.134\n",
      "Epoch: 390, loss: 0.147\n",
      "Epoch: 391, loss: 0.179\n",
      "Epoch: 392, loss: 0.154\n",
      "Epoch: 393, loss: 0.154\n",
      "Epoch: 394, loss: 0.126\n",
      "Epoch: 395, loss: 0.134\n",
      "Epoch: 396, loss: 0.149\n",
      "Epoch: 397, loss: 0.13\n",
      "Epoch: 398, loss: 0.134\n",
      "Epoch: 399, loss: 0.134\n",
      "Epoch: 400, loss: 0.147\n",
      "Epoch: 401, loss: 0.155\n",
      "Epoch: 402, loss: 0.121\n",
      "Epoch: 403, loss: 0.156\n",
      "Epoch: 404, loss: 0.145\n",
      "Epoch: 405, loss: 0.141\n",
      "Epoch: 406, loss: 0.126\n",
      "Epoch: 407, loss: 0.145\n",
      "Epoch: 408, loss: 0.139\n",
      "Epoch: 409, loss: 0.152\n",
      "Epoch: 410, loss: 0.12\n",
      "Epoch: 411, loss: 0.152\n",
      "Epoch: 412, loss: 0.144\n",
      "Epoch: 413, loss: 0.167\n",
      "Epoch: 414, loss: 0.126\n",
      "Epoch: 415, loss: 0.149\n",
      "Epoch: 416, loss: 0.158\n",
      "Epoch: 417, loss: 0.148\n",
      "Epoch: 418, loss: 0.163\n",
      "Epoch: 419, loss: 0.141\n",
      "Epoch: 420, loss: 0.124\n",
      "Epoch: 421, loss: 0.132\n",
      "Epoch: 422, loss: 0.143\n",
      "Epoch: 423, loss: 0.149\n",
      "Epoch: 424, loss: 0.155\n",
      "Epoch: 425, loss: 0.141\n",
      "Epoch: 426, loss: 0.153\n",
      "Epoch: 427, loss: 0.15\n",
      "Epoch: 428, loss: 0.154\n",
      "Epoch: 429, loss: 0.149\n",
      "Epoch: 430, loss: 0.136\n",
      "Epoch: 431, loss: 0.143\n",
      "Epoch: 432, loss: 0.145\n",
      "Epoch: 433, loss: 0.146\n",
      "Epoch: 434, loss: 0.146\n",
      "Epoch: 435, loss: 0.144\n",
      "Epoch: 436, loss: 0.121\n",
      "Epoch: 437, loss: 0.146\n",
      "Epoch: 438, loss: 0.147\n",
      "Epoch: 439, loss: 0.144\n",
      "Epoch: 440, loss: 0.142\n",
      "Epoch: 441, loss: 0.135\n",
      "Epoch: 442, loss: 0.132\n",
      "Epoch: 443, loss: 0.14\n",
      "Epoch: 444, loss: 0.165\n",
      "Epoch: 445, loss: 0.134\n",
      "Epoch: 446, loss: 0.139\n",
      "Epoch: 447, loss: 0.157\n",
      "Epoch: 448, loss: 0.141\n",
      "Epoch: 449, loss: 0.138\n",
      "Epoch: 450, loss: 0.146\n",
      "Epoch: 451, loss: 0.147\n",
      "Epoch: 452, loss: 0.147\n",
      "Epoch: 453, loss: 0.119\n",
      "Epoch: 454, loss: 0.124\n",
      "Epoch: 455, loss: 0.151\n",
      "Epoch: 456, loss: 0.148\n",
      "Epoch: 457, loss: 0.155\n",
      "Epoch: 458, loss: 0.138\n",
      "Epoch: 459, loss: 0.135\n",
      "Epoch: 460, loss: 0.126\n",
      "Epoch: 461, loss: 0.115\n",
      "Epoch: 462, loss: 0.12\n",
      "Epoch: 463, loss: 0.14\n",
      "Epoch: 464, loss: 0.131\n",
      "Epoch: 465, loss: 0.153\n",
      "Epoch: 466, loss: 0.127\n",
      "Epoch: 467, loss: 0.122\n",
      "Epoch: 468, loss: 0.146\n",
      "Epoch: 469, loss: 0.158\n",
      "Epoch: 470, loss: 0.146\n",
      "Epoch: 471, loss: 0.154\n",
      "Epoch: 472, loss: 0.136\n",
      "Epoch: 473, loss: 0.147\n",
      "Epoch: 474, loss: 0.144\n",
      "Epoch: 475, loss: 0.131\n",
      "Epoch: 476, loss: 0.16\n",
      "Epoch: 477, loss: 0.142\n",
      "Epoch: 478, loss: 0.15\n",
      "Epoch: 479, loss: 0.114\n",
      "Epoch: 480, loss: 0.177\n",
      "Epoch: 481, loss: 0.15\n",
      "Epoch: 482, loss: 0.166\n",
      "Epoch: 483, loss: 0.144\n",
      "Epoch: 484, loss: 0.148\n",
      "Epoch: 485, loss: 0.154\n",
      "Epoch: 486, loss: 0.163\n",
      "Epoch: 487, loss: 0.153\n",
      "Epoch: 488, loss: 0.116\n",
      "Epoch: 489, loss: 0.126\n",
      "Epoch: 490, loss: 0.155\n",
      "Epoch: 491, loss: 0.12\n",
      "Epoch: 492, loss: 0.131\n",
      "Epoch: 493, loss: 0.13\n",
      "Epoch: 494, loss: 0.134\n",
      "Epoch: 495, loss: 0.152\n",
      "Epoch: 496, loss: 0.131\n",
      "Epoch: 497, loss: 0.133\n",
      "Epoch: 498, loss: 0.147\n",
      "Epoch: 499, loss: 0.145\n"
     ]
    },
    {
     "data": {
      "image/png": "[encoded data removed]",
      "text/plain": [
       "<Figure size 432x288 with 1 Axes>"
      ]
     },
     "metadata": {
      "needs_background": "light"
     },
     "output_type": "display_data"
    }
   ],
   "source": [
    "for epoch in range(500):\n",
    "    for data_inputs, data_labels in train_data_loader:\n",
    "\n",
    "        data_inputs = data_inputs.to(device)\n",
    "        data_labels = data_labels.to(device)\n",
    "\n",
    "        preds = model(data_inputs.float())\n",
    "        preds = preds.squeeze(dim=1) \n",
    "        \n",
    "        loss = loss_module(preds, data_labels.float())\n",
    "        optimizer.zero_grad() \n",
    "        loss.backward()\n",
    "        optimizer.step()\n",
    "\n",
    "    print(f\"Epoch: {epoch}, loss: {loss.item():.3}\")\n",
    "    loss_progress.append(loss.item())\n",
    "plt.plot(loss_progress)\n",
    "plt.title('Mean absolute error per epoch')\n",
    "plt.ylabel('MAE')\n",
    "plt.xlabel('Epoch')\n",
    "plt.show()"
   ]
  },
  {
   "cell_type": "markdown",
   "metadata": {
    "id": "5Z_gPKlYOnZI",
    "pycharm": {
     "name": "#%% md\n"
    }
   },
   "source": [
    "Przygotowanie do ewaluacji"
   ]
  },
  {
   "cell_type": "code",
   "execution_count": 11,
   "metadata": {
    "colab": {
     "base_uri": "https://localhost:8080/"
    },
    "id": "da09iPA3Ok7V",
    "outputId": "35b88610-ae48-4e14-ac0c-725d9ca4ac71",
    "pycharm": {
     "name": "#%%\n"
    }
   },
   "outputs": [
    {
     "data": {
      "text/plain": [
       "SimpleClassifier(\n",
       "  (linear1): Linear(in_features=26, out_features=50, bias=True)\n",
       "  (act_fn): Tanh()\n",
       "  (linear2): Linear(in_features=50, out_features=50, bias=True)\n",
       "  (linear3): Linear(in_features=50, out_features=1, bias=True)\n",
       ")"
      ]
     },
     "execution_count": 11,
     "metadata": {},
     "output_type": "execute_result"
    }
   ],
   "source": [
    "model.eval()"
   ]
  },
  {
   "cell_type": "markdown",
   "metadata": {
    "id": "q1nfO1RWO5Yf",
    "pycharm": {
     "name": "#%% md\n"
    }
   },
   "source": [
    "Ewaluacja"
   ]
  },
  {
   "cell_type": "code",
   "execution_count": 12,
   "metadata": {
    "colab": {
     "base_uri": "https://localhost:8080/",
     "height": 456
    },
    "id": "vII9D6uXO4nT",
    "outputId": "45a3a902-db66-438a-9ab2-88c386bbb7ab",
    "pycharm": {
     "name": "#%%\n"
    }
   },
   "outputs": [
    {
     "name": "stdout",
     "output_type": "stream",
     "text": [
      "BCE: 0.127\n",
      "True positives: 66.545%\n",
      "True negatives: 10.667%\n",
      "False positives: 19.636%\n",
      "False negatives: 3.152%\n",
      "Accuracy: 77.212%\n",
      "Precision: 77.215%\n",
      "Recall: 95.478%\n",
      "F1: 85.381%\n"
     ]
    },
    {
     "data": {
      "text/plain": [
       "'\\nroc_auc = roc_auc_score(data_labels, preds)\\nfpr, tpr, thresholds = roc_curve(data_labels, preds)\\ndisplay = RocCurveDisplay(fpr=fpr, tpr=tpr, roc_auc=roc_auc, estimator_name=\"test\")\\ndisplay.plot()\\nroc_auc\\n'"
      ]
     },
     "execution_count": 12,
     "metadata": {},
     "output_type": "execute_result"
    }
   ],
   "source": [
    "with torch.no_grad(): \n",
    "  data_inputs, data_labels = next(iter(test_data_loader))\n",
    "  data_inputs = data_inputs.to('cpu')\n",
    "  data_labels = data_labels.to('cpu')\n",
    "  model.to('cpu')\n",
    "  preds = model(data_inputs.float())\n",
    "  preds = preds.squeeze(dim=1)\n",
    "  loss = loss_module(preds, data_labels.float())\n",
    "  preds_p = preds > 0.2\n",
    "  correct = preds_p == data_labels\n",
    "  tp = sum(preds_p * correct)\n",
    "  tn = sum(~preds_p * correct)\n",
    "  fp = sum(preds_p) - tp\n",
    "  fn = sum(~preds_p) - tn\n",
    "  total = len(preds_p)\n",
    "  precision = tp/(tp+fp)\n",
    "  recall = tp/(tp+fn)\n",
    " \n",
    "  # evaluation_data.csv\n",
    "  data_inputs = next(iter(eval_data_loader))[0]\n",
    "  preds_eval = model(data_inputs.float())\n",
    "  preds_eval = preds_eval.squeeze(dim=1)\n",
    "\n",
    "print(f\"BCE: {loss:1.3f}\")\n",
    "print(f\"True positives: {100*tp/total:1.3f}%\")\n",
    "print(f\"True negatives: {100*tn/total:1.3f}%\")\n",
    "print(f\"False positives: {100*fp/total:1.3f}%\")\n",
    "print(f\"False negatives: {100*fn/total:1.3f}%\")\n",
    "print(f\"Accuracy: {100*(tp+tn)/total:1.3f}%\")\n",
    "print(f\"Precision: {100*precision:1.3f}%\")\n",
    "print(f\"Recall: {100*recall:1.3f}%\")\n",
    "print(f\"F1: {200*precision*recall/(precision+recall):1.3f}%\")\n",
    "\"\"\"\n",
    "roc_auc = roc_auc_score(data_labels, preds)\n",
    "fpr, tpr, thresholds = roc_curve(data_labels, preds)\n",
    "display = RocCurveDisplay(fpr=fpr, tpr=tpr, roc_auc=roc_auc, estimator_name=\"test\")\n",
    "display.plot()\n",
    "roc_auc\n",
    "\"\"\""
   ]
  },
  {
   "cell_type": "code",
   "execution_count": 13,
   "metadata": {
    "colab": {
     "base_uri": "https://localhost:8080/",
     "height": 294
    },
    "id": "38W3MCHCbmyn",
    "outputId": "c3a3aafc-e88f-42c3-c115-74e923d4e82a",
    "pycharm": {
     "name": "#%%\n"
    }
   },
   "outputs": [
    {
     "data": {
      "image/png": "[encoded data removed]",
      "text/plain": [
       "<Figure size 432x288 with 1 Axes>"
      ]
     },
     "metadata": {
      "needs_background": "light"
     },
     "output_type": "display_data"
    }
   ],
   "source": [
    "with torch.no_grad(): \n",
    "  data_inputs, data_labels = next(iter(test_data_loader))\n",
    "  data_inputs = data_inputs.to('cpu')\n",
    "  data_labels = data_labels.to('cpu')\n",
    "  model.to('cpu')\n",
    "  preds = model(data_inputs.float())\n",
    "  preds = preds.squeeze(dim=1)\n",
    "  loss = loss_module(preds, data_labels.float())\n",
    "  F1 = np.zeros((101,1))\n",
    "  for k in range(101):\n",
    "    threshold = k/100\n",
    "    preds_p = preds > threshold\n",
    "    correct = preds_p == data_labels\n",
    "    tp = sum(preds_p * correct)\n",
    "    tn = sum(~preds_p * correct)\n",
    "    fp = sum(preds_p) - tp\n",
    "    fn = sum(~preds_p) - tn\n",
    "    total = len(preds_p)\n",
    "    precision = tp/(tp+fp)\n",
    "    recall = tp/(tp+fn)\n",
    "    F1[k] = 2*precision*recall/(precision+recall)\n",
    "  plt.plot(np.linspace(0,100,101)/100,F1)\n",
    "  plt.title('Accuracy')\n",
    "  plt.ylabel('Accuracy')\n",
    "  plt.xlabel('Threshold')\n",
    "  plt.show()"
   ]
  },
  {
   "cell_type": "markdown",
   "metadata": {
    "id": "y6OQSYaSOZgV",
    "pycharm": {
     "name": "#%% md\n"
    }
   },
   "source": [
    "Zapisanie modelu"
   ]
  },
  {
   "cell_type": "code",
   "execution_count": 14,
   "metadata": {
    "id": "7ilDh5gpwZij",
    "pycharm": {
     "name": "#%%\n"
    }
   },
   "outputs": [],
   "source": [
    "pd.DataFrame(preds_eval).to_csv(\"maj_brus.csv\", index=False, header=None)"
   ]
  },
  {
   "cell_type": "code",
   "execution_count": null,
   "metadata": {
    "pycharm": {
     "name": "#%%\n"
    }
   },
   "outputs": [],
   "source": []
  }
 ],
 "metadata": {
  "accelerator": "GPU",
  "colab": {
   "collapsed_sections": [],
   "name": "SSNE Miniprojekt 2 - BCE.ipynb",
   "provenance": []
  },
  "kernelspec": {
   "display_name": "Python 3",
   "language": "python",
   "name": "python3"
  },
  "language_info": {
   "codemirror_mode": {
    "name": "ipython",
    "version": 3
   },
   "file_extension": ".py",
   "mimetype": "text/x-python",
   "name": "python",
   "nbconvert_exporter": "python",
   "pygments_lexer": "ipython3",
   "version": "3.8.8"
  },
  "varInspector": {
   "cols": {
    "lenName": 16,
    "lenType": 16,
    "lenVar": 40
   },
   "kernels_config": {
    "python": {
     "delete_cmd_postfix": "",
     "delete_cmd_prefix": "del ",
     "library": "var_list.py",
     "varRefreshCmd": "print(var_dic_list())"
    },
    "r": {
     "delete_cmd_postfix": ") ",
     "delete_cmd_prefix": "rm(",
     "library": "var_list.r",
     "varRefreshCmd": "cat(var_dic_list()) "
    }
   },
   "types_to_exclude": [
    "module",
    "function",
    "builtin_function_or_method",
    "instance",
    "_Feature"
   ],
   "window_display": false
  }
 },
 "nbformat": 4,
 "nbformat_minor": 4
}